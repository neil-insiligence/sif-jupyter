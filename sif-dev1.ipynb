{
 "cells": [
  {
   "cell_type": "markdown",
   "id": "ecae899b",
   "metadata": {},
   "source": [
    "# SIF workflow for characterising synthetic proteins"
   ]
  },
  {
   "cell_type": "markdown",
   "id": "234a110e",
   "metadata": {},
   "source": [
    "# This is the development version 0.1"
   ]
  },
  {
   "cell_type": "markdown",
   "id": "d18e8956",
   "metadata": {},
   "source": [
    "### First define the data sources - there should be a synthetic set of sequences as a single fasta file and single natural set of sequences as a fasta file. "
   ]
  },
  {
   "cell_type": "code",
   "execution_count": 48,
   "id": "07143d40",
   "metadata": {},
   "outputs": [],
   "source": [
    "import os\n",
    "\n",
    "#Scratch workspace\n",
    "tmp=os.environ['TMP'] = '/home/neil/tmp/'\n",
    "\n",
    "# Define the dataset names\n",
    "synName = os.environ['SYNPROTS_NAME'] = 'ISP_1111_A1_short'\n",
    "natName = os.environ['NATPROTS_NAME'] = 'sdr_pdg_filtered_short'\n",
    "\n",
    "# Locations of the data folders\n",
    "\n",
    "# Synthetic protein input data lives here\n",
    "os.environ['SYNPROTS'] = '/home/neil/data/sif/synProts/ISP_1111_A1/'\n",
    "# Natural protein input data lives here\n",
    "os.environ['NATPROTS'] = '/home/neil/data/sif/natProts/zhen_sdrs/'\n",
    "\n",
    "# Access the environment variable later in code\n",
    "synProts = os.environ['SYNPROTS']\n",
    "natProts = os.environ['NATPROTS']\n",
    "\n",
    "# Synthetic protein structure output data lives here\n",
    "synStrucs = os.environ['SYNSTRUCS'] = '/home/neil/data/sif/synStrucs/'\n",
    "\n",
    "# Natural protein structure output data lives here \n",
    "natStrucs = os.environ['NATSTRUCS'] = '/home/neil/data/sif/natStrucs/'\n",
    "\n",
    "# Synthetic protein comparison data lives here\n",
    "os.environ['SYNPROTSCOMP'] = '/home/neil/data/sif/synProtComps/'\n",
    "# Natural protein input data lives here\n",
    "os.environ['NATPROTSCOMP'] = '/home/neil/data/sif/natProtComps/'\n",
    "# Combined protein comparison data lives here\n",
    "os.environ['COMPROTSCOMP'] = '/home/neil/data/sif/comProtComps/'\n",
    "# Visualisation data lives here\n",
    "natVisual=os.environ['NATVISUAL'] = '/home/neil/data/sif/visualisations/nat'\n",
    "synVisual=os.environ['SYNVISUAL'] = '/home/neil/data/sif/visualisations/synthetic'\n",
    "comVisual=os.environ['COMVISUAL'] = '/home/neil/data/sif/visualisations/natSyn'\n",
    "\n",
    "# Access the environment variable later in code\n",
    "synProtComps = os.environ['SYNPROTSCOMP']\n",
    "natProtComps = os.environ['NATPROTSCOMP']\n",
    "comProtComps = os.environ['COMPROTSCOMP']\n",
    "\n",
    "\n"
   ]
  },
  {
   "cell_type": "code",
   "execution_count": null,
   "id": "2697008e",
   "metadata": {},
   "outputs": [],
   "source": [
    "#Natural language library\n",
    "!pip install nltk"
   ]
  },
  {
   "cell_type": "code",
   "execution_count": null,
   "id": "5d290b1f",
   "metadata": {},
   "outputs": [],
   "source": [
    "# Import necessary libraries\n",
    "import nltk\n",
    "import random\n",
    "import uuid\n",
    "from collections import Counter\n",
    "\n",
    "# Download the brown corpus\n",
    "nltk.download('brown')\n",
    "\n",
    "# Get a list of English words\n",
    "word_list = nltk.corpus.brown.words()\n",
    "\n",
    "# Count the occurrences of each word\n",
    "word_counter = Counter(word_list)\n",
    "\n",
    "# Get the 5000 most common words\n",
    "common_words = [word for word, _ in word_counter.most_common(5000)]\n",
    "\n",
    "def generate_human_memorable_id():\n",
    "    # Generate a unique ID using uuid\n",
    "    unique_id = uuid.uuid4().int\n",
    "\n",
    "    # Select two random words\n",
    "    word1 = random.choice(common_words)\n",
    "    word2 = random.choice(common_words)\n",
    "\n",
    "    # Truncate the UUID to the last 6 digits for brevity and append it to the words\n",
    "    human_memorable_id = f'{word1}-{word2}-{str(unique_id)[-6:]}'\n",
    "\n",
    "    return human_memorable_id\n",
    "\n",
    "# Print a unique, human-memorable ID\n",
    "wf_id = generate_human_memorable_id()\n",
    "print(\"Workflow ID is:\", wf_id)\n"
   ]
  },
  {
   "cell_type": "markdown",
   "id": "bc1bfbd7",
   "metadata": {},
   "source": [
    "### Structural Predictions using esmFold"
   ]
  },
  {
   "cell_type": "markdown",
   "id": "7a5f7dff",
   "metadata": {},
   "source": [
    "**Fold the synthetic proteins**"
   ]
  },
  {
   "cell_type": "code",
   "execution_count": null,
   "id": "f61a1668",
   "metadata": {},
   "outputs": [],
   "source": [
    "!pip install py3Dmol\n",
    "!pip install biopython\n",
    "!pip install transformers\n",
    "!pip install torch\n",
    "!pip install pandas\n",
    "!pip install accelerate\n",
    "\n",
    "# Build the complete paths first\n",
    "fasta_path = f\"{synProts}{synName}.fasta\"\n",
    "output_path = f\"{synStrucs}{wf_id}/{synName}\"\n",
    "\n",
    "# Use the paths in the command\n",
    "!python /home/neil/projects-dep/esmFold/esmFold.py {fasta_path} {output_path}\n",
    "print(\"/home/neil/projects-dep/esmFold/esmFold.py\", fasta_path, output_path)"
   ]
  },
  {
   "cell_type": "markdown",
   "id": "38f534a0",
   "metadata": {},
   "source": [
    "**Fold the natural proteins**"
   ]
  },
  {
   "cell_type": "code",
   "execution_count": null,
   "id": "d2f03ba5",
   "metadata": {},
   "outputs": [],
   "source": [
    "# Build the complete paths first\n",
    "fasta_path = f\"{natProts}{natName}.fasta\"\n",
    "output_path = f\"{natStrucs}{wf_id}/{natName}\"\n",
    "\n",
    "# Use the paths in the command\n",
    "!python /home/neil/projects-dep/esmFold/esmFold.py {fasta_path} {output_path}\n",
    "print(\"/home/neil/projects-dep/esmFold/esmFold.py\", fasta_path, output_path)"
   ]
  },
  {
   "cell_type": "markdown",
   "id": "c7beafcb",
   "metadata": {},
   "source": [
    "# Building the SSNs"
   ]
  },
  {
   "cell_type": "markdown",
   "id": "7c088731",
   "metadata": {},
   "source": [
    "\n",
    "\n",
    "We are going to do this manually over a terminal to TBone as it can take a while.\n",
    "\n",
    "1) SSH into TBone e.g. ssh neil@92.40.34.250\n",
    "2) conda activate nf-needleall-ava\n",
    "3) export NXF_VER=22.10.0\n",
    "4) run the command generated below so that things end up in the right directory"
   ]
  },
  {
   "cell_type": "markdown",
   "id": "976a093a",
   "metadata": {},
   "source": [
    "## Synthetic Proteins"
   ]
  },
  {
   "cell_type": "code",
   "execution_count": null,
   "id": "41748a91",
   "metadata": {},
   "outputs": [],
   "source": [
    "fasta_path = f\"{synProts}{synName}.fasta\"\n",
    "comp_output_path_ssn = f\"{synProtsComp}ssn/{synName}/{wf_id}\"\n",
    "print (\"nextflow run ravenlocke/nf-needleall-ava --infile\", fasta_path, \"--outdir\", comp_output_path_ssn, \"--threshold 0.4 &\")"
   ]
  },
  {
   "cell_type": "markdown",
   "id": "9d910af0",
   "metadata": {},
   "source": [
    "## Natural Proteins"
   ]
  },
  {
   "cell_type": "code",
   "execution_count": null,
   "id": "91a985d6",
   "metadata": {},
   "outputs": [],
   "source": [
    "fasta_path = f\"{natProts}{natName}.fasta\"\n",
    "comp_output_path_ssn = f\"{natProtsComp}ssn/{natName}/{wf_id}\"\n",
    "print (\"nextflow run ravenlocke/nf-needleall-ava --infile\", fasta_path, \"--outdir\", comp_output_path_ssn, \"--threshold  0.4 &\")"
   ]
  },
  {
   "cell_type": "markdown",
   "id": "7041d516",
   "metadata": {},
   "source": [
    "# Building the Structural SNs (STSNs)"
   ]
  },
  {
   "cell_type": "markdown",
   "id": "3136ea20",
   "metadata": {},
   "source": [
    "## Synthetic Proteins against themselves"
   ]
  },
  {
   "cell_type": "markdown",
   "id": "e987477e",
   "metadata": {},
   "source": [
    "Using structComp: Uses foldseek to compare one set of PDB files to another \n",
    "Usage: python3 structComp.py <query_path> <target_path> <results_file>\n",
    "\n"
   ]
  },
  {
   "cell_type": "code",
   "execution_count": 29,
   "id": "cd91ed7e",
   "metadata": {},
   "outputs": [
    {
     "name": "stdout",
     "output_type": "stream",
     "text": [
      "mkdir: cannot create directory ‘/home/neil/data/sif/synProtComps/stsn/ISP_1111_A1_short’: File exists\n",
      "mkdir: cannot create directory ‘/home/neil/data/sif/synProtComps/stsn/ISP_1111_A1_short/actions-done-253755’: File exists\n",
      "\u001b[33m/home/neil/data/sif/synProtComps/stsn/ISP_1111_A1_short/actions-done-253755/ISP_1111_A1_short-all.tsv exists and will be overwritten\n",
      "\u001b[39measy-search /home/neil/data/sif/synStrucs/actions-done-253755/ISP_1111_A1_short /home/neil/data/sif/synStrucs/actions-done-253755/ISP_1111_A1_short /home/neil/data/sif/synProtComps/stsn/ISP_1111_A1_short/actions-done-253755/ISP_1111_A1_short-all.tsv ./tmp --format-mode 4 \n",
      "\n",
      "MMseqs Version:              \t7.04e0ec8\n",
      "Seq. id. threshold           \t0\n",
      "Coverage threshold           \t0\n",
      "Coverage mode                \t0\n",
      "Max reject                   \t2147483647\n",
      "Max accept                   \t2147483647\n",
      "Add backtrace                \tfalse\n",
      "TMscore threshold            \t0\n",
      "TMalign hit order            \t0\n",
      "TMalign fast                 \t1\n",
      "Preload mode                 \t0\n",
      "Threads                      \t16\n",
      "Verbosity                    \t3\n",
      "LDDT threshold               \t0\n",
      "Sort by structure bit score  \t1\n",
      "Substitution matrix          \taa:3di.out,nucl:3di.out\n",
      "Alignment mode               \t3\n",
      "Alignment mode               \t0\n",
      "E-value threshold            \t10\n",
      "Min alignment length         \t0\n",
      "Seq. id. mode                \t0\n",
      "Alternative alignments       \t0\n",
      "Max sequence length          \t65535\n",
      "Compositional bias           \t1\n",
      "Compositional bias           \t1\n",
      "Gap open cost                \taa:10,nucl:10\n",
      "Gap extension cost           \taa:1,nucl:1\n",
      "Compressed                   \t0\n",
      "Seed substitution matrix     \taa:3di.out,nucl:3di.out\n",
      "Sensitivity                  \t9.5\n",
      "k-mer length                 \t6\n",
      "k-score                      \tseq:2147483647,prof:2147483647\n",
      "Max results per query        \t1000\n",
      "Split database               \t0\n",
      "Split mode                   \t2\n",
      "Split memory limit           \t0\n",
      "Diagonal scoring             \ttrue\n",
      "Exact k-mer matching         \t0\n",
      "Mask residues                \t0\n",
      "Mask residues probability    \t0.99995\n",
      "Mask lower case residues     \t1\n",
      "Minimum diagonal score       \t30\n",
      "Selected taxa                \t\n",
      "Spaced k-mers                \t1\n",
      "Spaced k-mer pattern         \t\n",
      "Local temporary path         \t\n",
      "Exhaustive search mode       \tfalse\n",
      "Prefilter mode               \t0\n",
      "Search iterations            \t1\n",
      "Alignment type               \t2\n",
      "Remove temporary files       \ttrue\n",
      "MPI runner                   \t\n",
      "Force restart with latest tmp\tfalse\n",
      "Cluster search               \t0\n",
      "Chain name mode              \t0\n",
      "Write mapping file           \t0\n",
      "Mask b-factor threshold      \t0\n",
      "Coord store mode             \t2\n",
      "Write lookup file            \t1\n",
      "Tar Inclusion Regex          \t.*\n",
      "Tar Exclusion Regex          \t^$\n",
      "Alignment format             \t4\n",
      "Format alignment output      \tquery,target,fident,alnlen,mismatch,gapopen,qstart,qend,tstart,tend,evalue,bits\n",
      "Database output              \tfalse\n",
      "Greedy best hits             \tfalse\n",
      "\n",
      "createdb /home/neil/data/sif/synStrucs/actions-done-253755/ISP_1111_A1_short ./tmp/7873251659727989786/query --chain-name-mode 0 --write-mapping 0 --mask-bfactor-threshold 0 --coord-store-mode 2 --write-lookup 1 --tar-include '.*' --tar-exclude '^$' --threads 16 -v 3 \n",
      "\n",
      "Output file: ./tmp/7873251659727989786/query\n",
      "[=================================================================] 100.00% 5 0s 0ms      \n",
      "Time for merging to query_ss: 0h 0m 0s 0ms=======>                ] 75.00% 4 eta 0s       \n",
      "Time for merging to query_h: 0h 0m 0s 0ms\n",
      "Time for merging to query_ca: 0h 0m 0s 0ms\n",
      "Time for merging to query: 0h 0m 0s 0ms\n",
      "Ignore 0 out of 4.\n",
      "Too short: 0, incorrect: 0, not proteins: 0.\n",
      "Time for processing: 0h 0m 0s 8ms\n",
      "createdb /home/neil/data/sif/synStrucs/actions-done-253755/ISP_1111_A1_short ./tmp/7873251659727989786/target --chain-name-mode 0 --write-mapping 0 --mask-bfactor-threshold 0 --coord-store-mode 2 --write-lookup 1 --tar-include '.*' --tar-exclude '^$' --threads 16 -v 3 \n",
      "\n",
      "Output file: ./tmp/7873251659727989786/target\n",
      "[=================================================================] 100.00% 5 0s 0ms      \n",
      "Time for merging to target_ss: 0h 0m 0s 0ms\n",
      "Time for merging to target_h: 0h 0m 0s 0ms\n",
      "Time for merging to target_ca: 0h 0m 0s 0ms\n",
      "Time for merging to target: 0h 0m 0s 0ms\n",
      "Ignore 0 out of 4.\n",
      "Too short: 0, incorrect: 0, not proteins: 0.\n",
      "Time for processing: 0h 0m 0s 6ms\n",
      "Create directory ./tmp/7873251659727989786/search_tmp\n",
      "search ./tmp/7873251659727989786/query ./tmp/7873251659727989786/target ./tmp/7873251659727989786/result ./tmp/7873251659727989786/search_tmp --alignment-mode 3 --comp-bias-corr 1 --gap-open aa:10,nucl:10 --gap-extend aa:1,nucl:1 -s 9.5 -k 6 --mask 0 --mask-prob 0.99995 --remove-tmp-files 1 \n",
      "\n",
      "prefilter ./tmp/7873251659727989786/query_ss ./tmp/7873251659727989786/target_ss ./tmp/7873251659727989786/search_tmp/13278405255630646358/pref --sub-mat 'aa:3di.out,nucl:3di.out' --seed-sub-mat 'aa:3di.out,nucl:3di.out' -s 9.5 -k 6 --k-score seq:2147483647,prof:2147483647 --alph-size aa:21,nucl:5 --max-seq-len 65535 --max-seqs 1000 --split 0 --split-mode 2 --split-memory-limit 0 -c 0 --cov-mode 0 --comp-bias-corr 1 --comp-bias-corr-scale 0.15 --diag-score 1 --exact-kmer-matching 0 --mask 0 --mask-prob 0.99995 --mask-lower-case 1 --min-ungapped-score 30 --add-self-matches 0 --spaced-kmer-mode 1 --db-load-mode 0 --pca substitution:1.100,context:1.400 --pcb substitution:4.100,context:5.800 --threads 16 --compressed 0 -v 3 \n",
      "\n",
      "Query database size: 4 type: Aminoacid\n",
      "Estimated memory consumption: 977M\n",
      "Target database size: 4 type: Aminoacid\n",
      "Index table k-mer threshold: 78 at k-mer size 6 \n",
      "Index table: counting k-mers\n",
      "[=================================================================] 100.00% 4 0s 0ms      \n",
      "Index table: Masked residues: 0\n",
      "Index table: fill\n",
      "[=================================================================] 100.00% 4 0s 0ms      \n",
      "Index statistics\n",
      "Entries:          729\n",
      "DB size:          488 MB\n",
      "Avg k-mer size:   0.000011\n",
      "Top 10 k-mers\n",
      "    PPPPPD\t4\n",
      "    TDDDDD\t2\n",
      "    PPDDDD\t2\n",
      "    PPPDDD\t2\n",
      "    DQPDDD\t2\n",
      "    PDDPDD\t2\n",
      "    DPPPDD\t2\n",
      "    PPPDHD\t2\n",
      "    VVDPPD\t2\n",
      "    PPDPDP\t2\n",
      "Time for index table init: 0h 0m 0s 304ms\n",
      "Process prefiltering step 1 of 1\n",
      "\n",
      "k-mer similarity threshold: 78\n",
      "Starting prefiltering scores calculation (step 1 of 1)\n",
      "Query db start 1 to 4\n",
      "Target db start 1 to 4\n",
      "[=================================================================] 100.00% 4 0s 0ms      \n",
      "\n",
      "2421.610554 k-mers per position\n",
      "315 DB matches per sequence\n",
      "0 overflows\n",
      "3 sequences passed prefiltering per query sequence\n",
      "4 median result list length\n",
      "0 sequences with 0 size result lists\n",
      "Time for merging to pref: 0h 0m 0s 0ms\n",
      "Time for processing: 0h 0m 0s 533ms\n",
      "structurealign ./tmp/7873251659727989786/query ./tmp/7873251659727989786/target ./tmp/7873251659727989786/search_tmp/13278405255630646358/pref ./tmp/7873251659727989786/search_tmp/13278405255630646358/strualn --tmscore-threshold 0 --lddt-threshold 0 --sort-by-structure-bits 1 --sub-mat 'aa:3di.out,nucl:3di.out' -a 0 --alignment-mode 3 --alignment-output-mode 0 --wrapped-scoring 0 -e 10 --min-seq-id 0 --min-aln-len 0 --seq-id-mode 0 --alt-ali 0 -c 0 --cov-mode 0 --max-seq-len 65535 --comp-bias-corr 1 --comp-bias-corr-scale 0.5 --max-rejected 2147483647 --max-accept 2147483647 --add-self-matches 0 --db-load-mode 0 --pca substitution:1.100,context:1.400 --pcb substitution:4.100,context:5.800 --score-bias 0 --realign 0 --realign-score-bias -0.2 --realign-max-seqs 2147483647 --corr-score-weight 0 --gap-open aa:10,nucl:10 --gap-extend aa:1,nucl:1 --zdrop 40 --threads 16 --compressed 0 -v 3 \n",
      "\n",
      "[=================================================================] 100.00% 4 0s 14ms     \n",
      "Time for merging to strualn: 0h 0m 0s 0ms\n",
      "Time for processing: 0h 0m 0s 33ms\n",
      "mvdb ./tmp/7873251659727989786/search_tmp/13278405255630646358/strualn ./tmp/7873251659727989786/search_tmp/13278405255630646358/aln \n",
      "\n",
      "Time for processing: 0h 0m 0s 0ms\n",
      "mvdb ./tmp/7873251659727989786/search_tmp/13278405255630646358/aln ./tmp/7873251659727989786/result -v 3 \n",
      "\n",
      "Time for processing: 0h 0m 0s 0ms\n",
      "Removing temporary files\n",
      "rmdb ./tmp/7873251659727989786/search_tmp/13278405255630646358/pref -v 3 \n",
      "\n",
      "Time for processing: 0h 0m 0s 0ms\n",
      "\u001b[33m/home/neil/data/sif/synProtComps/stsn/ISP_1111_A1_short/actions-done-253755/ISP_1111_A1_short-all.tsv exists and will be overwritten\n",
      "\u001b[39mconvertalis ./tmp/7873251659727989786/query ./tmp/7873251659727989786/target ./tmp/7873251659727989786/result /home/neil/data/sif/synProtComps/stsn/ISP_1111_A1_short/actions-done-253755/ISP_1111_A1_short-all.tsv --sub-mat 'aa:3di.out,nucl:3di.out' --format-mode 4 --format-output query,target,fident,alnlen,mismatch,gapopen,qstart,qend,tstart,tend,evalue,bits --translation-table 1 --gap-open aa:10,nucl:10 --gap-extend aa:1,nucl:1 --db-output 0 --db-load-mode 0 --search-type 0 --threads 16 --compressed 0 -v 3 \n",
      "\n",
      "[=================================================================] 100.00% 4 0s 0ms      \n",
      "Time for merging to ISP_1111_A1_short-all.tsv: 0h 0m 0s 0ms\n",
      "Time for processing: 0h 0m 0s 17ms\n",
      "rmdb ./tmp/7873251659727989786/result -v 3 \n",
      "\n",
      "Time for processing: 0h 0m 0s 0ms\n",
      "rmdb ./tmp/7873251659727989786/target -v 3 \n",
      "\n",
      "Time for processing: 0h 0m 0s 0ms\n",
      "rmdb ./tmp/7873251659727989786/target_h -v 3 \n",
      "\n",
      "Time for processing: 0h 0m 0s 0ms\n",
      "rmdb ./tmp/7873251659727989786/target_ca -v 3 \n",
      "\n",
      "Time for processing: 0h 0m 0s 0ms\n",
      "rmdb ./tmp/7873251659727989786/target_ss -v 3 \n",
      "\n",
      "Time for processing: 0h 0m 0s 0ms\n",
      "rmdb ./tmp/7873251659727989786/query -v 3 \n",
      "\n",
      "Time for processing: 0h 0m 0s 0ms\n",
      "rmdb ./tmp/7873251659727989786/query_h -v 3 \n",
      "\n",
      "Time for processing: 0h 0m 0s 0ms\n",
      "rmdb ./tmp/7873251659727989786/query_ca -v 3 \n",
      "\n",
      "Time for processing: 0h 0m 0s 0ms\n",
      "rmdb ./tmp/7873251659727989786/query_ss -v 3 \n",
      "\n",
      "Time for processing: 0h 0m 0s 0ms\n"
     ]
    },
    {
     "name": "stdout",
     "output_type": "stream",
     "text": [
      "/home/neil/projects-dev/structComp/structComp.py /home/neil/data/sif/synStrucs/actions-done-253755/ISP_1111_A1_short /home/neil/data/sif/synStrucs/actions-done-253755/ISP_1111_A1_short /home/neil/data/sif/synProtComps/stsn/ISP_1111_A1_short/actions-done-253755/ISP_1111_A1_short-all.tsv\n"
     ]
    }
   ],
   "source": [
    "\n",
    "# Build the complete paths first\n",
    "query_path = f\"{synStrucs}{wf_id}/{synName}\"\n",
    "target_path = f\"{synStrucs}{wf_id}/{synName}\"\n",
    "results_file = f\"{synProtComps}stsn/{synName}/{wf_id}/{synName}-all.tsv\"\n",
    "!mkdir {synProtComps}stsn/{synName}\n",
    "!mkdir {synProtComps}stsn/{synName}/{wf_id}\n",
    "syn_comp_results = results_file\n",
    "\n",
    "# Use the paths in the command\n",
    "!python /home/neil/projects-dev/structComp/structComp.py {query_path} {target_path} {results_file}\n",
    "print(\"/home/neil/projects-dev/structComp/structComp.py\", query_path, target_path, results_file)\n"
   ]
  },
  {
   "cell_type": "markdown",
   "id": "036cbbb8",
   "metadata": {},
   "source": [
    "## Natural Proteins against themselves"
   ]
  },
  {
   "cell_type": "code",
   "execution_count": null,
   "id": "8cbec9eb",
   "metadata": {},
   "outputs": [],
   "source": [
    "# Build the complete paths first\n",
    "query_path = f\"{natStrucs}{wf_id}/{natName}\"\n",
    "target_path = f\"{natStrucs}{wf_id}/{natName}\"\n",
    "results_file = f\"{natProtComps}stsn/{natName}/{wf_id}/{natName}-all.tsv\"\n",
    "!mkdir {natProtComps}stsn/{natName}\n",
    "!mkdir {natProtComps}stsn/{natName}/{wf_id}\n",
    "\n",
    "nat_comp_results = results_file\n",
    "# Use the paths in the command\n",
    "!python /home/neil/projects-dev/structComp/structComp.py {query_path} {target_path} {results_file}\n",
    "print(\"/home/neil/projects-dev/structComp/structComp.py\", query_path, target_path, results_file)"
   ]
  },
  {
   "cell_type": "markdown",
   "id": "0f66ec58",
   "metadata": {},
   "source": [
    "## Natural Proteins and Synth proteins all against all"
   ]
  },
  {
   "cell_type": "code",
   "execution_count": null,
   "id": "54867316",
   "metadata": {},
   "outputs": [],
   "source": [
    "#Copy the natural proteins to the tmp directory\n",
    "import shutil\n",
    "source_directory = f\"{natStrucs}{wf_id}/{natName}\"\n",
    "destination_directory = f\"{tmp}{wf_id}\"\n",
    "shutil.copytree(source_directory, destination_directory,dirs_exist_ok=True)\n",
    "\n",
    "#Copy the synthetic proteins to the tmp directory\n",
    "source_directory = f\"{synStrucs}{wf_id}/{synName}\"\n",
    "shutil.copytree(source_directory, destination_directory,dirs_exist_ok=True)\n",
    "#Set the query and target directory to this combined directory\n",
    "query_path=source_directory\n",
    "target_path=source_directory\n",
    "!mkdir {comProtComps}stsn/{wf_id}\n",
    "#Set the results file to the right directory\n",
    "results_file = f\"{comProtComps}stsn/{wf_id}/{natName}-vs-{synName}-all.tsv\"\n",
    "comb_comp_results = results_file\n",
    "\n",
    "!python /home/neil/projects-dev/structComp/structComp.py {query_path} {target_path} {results_file}\n",
    "print(\"/home/neil/projects-dev/structComp/structComp.py\", query_path, target_path, results_file)\n",
    "\n"
   ]
  },
  {
   "cell_type": "markdown",
   "id": "bb703943",
   "metadata": {},
   "source": [
    "# Visualising the Structural SNs (STSNs)\n"
   ]
  },
  {
   "cell_type": "markdown",
   "id": "e75e3687",
   "metadata": {},
   "source": [
    "### usage: structCompVis.py [-h] input_file output_shortened_file output_cytoscape_file output_gml_file cutoff"
   ]
  },
  {
   "cell_type": "code",
   "execution_count": 49,
   "id": "ce2caf82",
   "metadata": {},
   "outputs": [],
   "source": [
    "results_file=syn_comp_results \n",
    "results_file_short=f\"{synVisual}/{wf_id}/{synName}_short.tsv\"\n",
    "cyto_file_sif=f\"{synVisual}/{wf_id}/{synName}.sif\"\n",
    "cyto_file_gml=f\"{synVisual}/{wf_id}/{synName}.gml\"\n",
    "cutoff=0.3"
   ]
  },
  {
   "cell_type": "code",
   "execution_count": 50,
   "id": "8cc837df",
   "metadata": {},
   "outputs": [],
   "source": [
    "!mkdir {synVisual}/{wf_id}"
   ]
  },
  {
   "cell_type": "code",
   "execution_count": 52,
   "id": "1fb7e6dd",
   "metadata": {},
   "outputs": [
    {
     "name": "stdout",
     "output_type": "stream",
     "text": [
      "/home/neil/projects-dev/structComp/structCompVis.py /home/neil/data/sif/synProtComps/stsn/ISP_1111_A1_short/actions-done-253755/ISP_1111_A1_short-all.tsv /home/neil/data/sif/visualisations/synthetic/actions-done-253755/ISP_1111_A1_short_short.tsv /home/neil/data/sif/visualisations/synthetic/actions-done-253755/ISP_1111_A1_short.sif /home/neil/data/sif/visualisations/synthetic/actions-done-253755/ISP_1111_A1_short.gml 0.3\n",
      "Received arguments: Namespace(input_file='/home/neil/data/sif/synProtComps/stsn/ISP_1111_A1_short/actions-done-253755/ISP_1111_A1_short-all.tsv', output_shortened_file='/home/neil/data/sif/visualisations/synthetic/actions-done-253755/ISP_1111_A1_short_short.tsv', output_cytoscape_file='/home/neil/data/sif/visualisations/synthetic/actions-done-253755/ISP_1111_A1_short.sif', output_gml_file='/home/neil/data/sif/visualisations/synthetic/actions-done-253755/ISP_1111_A1_short.gml', cutoff=0.3)\n",
      "Successfully written to /home/neil/data/sif/visualisations/synthetic/actions-done-253755/ISP_1111_A1_short_short.tsv\n",
      "Successfully written to /home/neil/data/sif/visualisations/synthetic/actions-done-253755/ISP_1111_A1_short.sif\n",
      "Successfully written to /home/neil/data/sif/visualisations/synthetic/actions-done-253755/ISP_1111_A1_short.gml\n",
      "Successfully processed the input file with the given cutoff. The results have been saved to /home/neil/data/sif/visualisations/synthetic/actions-done-253755/ISP_1111_A1_short_short.tsv, /home/neil/data/sif/visualisations/synthetic/actions-done-253755/ISP_1111_A1_short.sif, and /home/neil/data/sif/visualisations/synthetic/actions-done-253755/ISP_1111_A1_short.gml.\n"
     ]
    }
   ],
   "source": [
    "print(\"/home/neil/projects-dev/structComp/structCompVis.py\",results_file, results_file_short, cyto_file_sif, cyto_file_gml, cutoff)\n",
    "!python3 /home/neil/projects-dev/structComp/structCompVis.py {results_file} {results_file_short} {cyto_file_sif} {cyto_file_gml} {cutoff}\n"
   ]
  },
  {
   "cell_type": "code",
   "execution_count": null,
   "id": "fb5e7e18",
   "metadata": {},
   "outputs": [],
   "source": []
  }
 ],
 "metadata": {
  "kernelspec": {
   "display_name": "Python 3 (ipykernel)",
   "language": "python",
   "name": "python3"
  },
  "language_info": {
   "codemirror_mode": {
    "name": "ipython",
    "version": 3
   },
   "file_extension": ".py",
   "mimetype": "text/x-python",
   "name": "python",
   "nbconvert_exporter": "python",
   "pygments_lexer": "ipython3",
   "version": "3.11.3"
  }
 },
 "nbformat": 4,
 "nbformat_minor": 5
}
