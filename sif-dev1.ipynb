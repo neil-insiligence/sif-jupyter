{
 "cells": [
  {
   "cell_type": "markdown",
   "id": "ecae899b",
   "metadata": {},
   "source": [
    "# SIF workflow for characterising synthetic proteins"
   ]
  },
  {
   "cell_type": "markdown",
   "id": "234a110e",
   "metadata": {},
   "source": [
    "# This is the development version 0.1"
   ]
  },
  {
   "cell_type": "markdown",
   "id": "d18e8956",
   "metadata": {},
   "source": [
    "### First define the data sources - there should be a synthetic set of sequences as a single fasta file and single natural set of sequences as a fasta file. "
   ]
  },
  {
   "cell_type": "code",
   "execution_count": null,
   "id": "07143d40",
   "metadata": {},
   "outputs": [],
   "source": [
    "import os\n",
    "\n",
    "# Define the dataset names\n",
    "synName = os.environ['SYNPROTS_NAME'] = 'ISP_1111_A1_short'\n",
    "natName = os.environ['NATPROTS_NAME'] = 'sdr_pdg_filtered_short'\n",
    "\n",
    "# Locations of the data folders\n",
    "\n",
    "# Synthetic protein input data lives here\n",
    "os.environ['SYNPROTS'] = '/home/neil/data/sif/synProts/ISP_1111_A1/'\n",
    "# Natural protein input data lives here\n",
    "os.environ['NATPROTS'] = '/home/neil/data/sif/natProts/zhen_sdrs/'\n",
    "\n",
    "# Access the environment variable later in code\n",
    "synProts = os.environ['SYNPROTS']\n",
    "natProts = os.environ['NATPROTS']\n",
    "\n",
    "# Synthetic protein structure output data lives here\n",
    "synStrucs = os.environ['SYNSTRUCS'] = '/home/neil/data/sif/synStrucs/'\n",
    "\n",
    "# Natural protein structure output data lives here \n",
    "natStrucs = os.environ['NATSTRUCS'] = '/home/neil/data/sif/natStrucs/'\n",
    "\n",
    "# Synthetic protein comparison data lives here\n",
    "os.environ['SYNPROTSCOMP'] = '/home/neil/data/sif/synProtsComp/'\n",
    "# Natural protein input data lives here\n",
    "os.environ['NATPROTSCOMP'] = '/home/neil/data/sif/natProtsComp/'\n",
    "\n",
    "# Access the environment variable later in code\n",
    "synProtsComp = os.environ['SYNPROTSCOMP']\n",
    "natProtsComp = os.environ['NATPROTSCOMP']\n",
    "\n"
   ]
  },
  {
   "cell_type": "code",
   "execution_count": null,
   "id": "2697008e",
   "metadata": {},
   "outputs": [],
   "source": [
    "#Natural language library\n",
    "!pip install nltk"
   ]
  },
  {
   "cell_type": "code",
   "execution_count": null,
   "id": "5d290b1f",
   "metadata": {},
   "outputs": [],
   "source": [
    "# Import necessary libraries\n",
    "import nltk\n",
    "import random\n",
    "import uuid\n",
    "from collections import Counter\n",
    "\n",
    "# Download the brown corpus\n",
    "nltk.download('brown')\n",
    "\n",
    "# Get a list of English words\n",
    "word_list = nltk.corpus.brown.words()\n",
    "\n",
    "# Count the occurrences of each word\n",
    "word_counter = Counter(word_list)\n",
    "\n",
    "# Get the 5000 most common words\n",
    "common_words = [word for word, _ in word_counter.most_common(5000)]\n",
    "\n",
    "def generate_human_memorable_id():\n",
    "    # Generate a unique ID using uuid\n",
    "    unique_id = uuid.uuid4().int\n",
    "\n",
    "    # Select two random words\n",
    "    word1 = random.choice(common_words)\n",
    "    word2 = random.choice(common_words)\n",
    "\n",
    "    # Truncate the UUID to the last 6 digits for brevity and append it to the words\n",
    "    human_memorable_id = f'{word1}-{word2}-{str(unique_id)[-6:]}'\n",
    "\n",
    "    return human_memorable_id\n",
    "\n",
    "# Print a unique, human-memorable ID\n",
    "wf_id = generate_human_memorable_id()\n",
    "print(\"Workflow ID is:\", wf_id)\n"
   ]
  },
  {
   "cell_type": "markdown",
   "id": "bc1bfbd7",
   "metadata": {},
   "source": [
    "### Structural Predictions using esmFold"
   ]
  },
  {
   "cell_type": "markdown",
   "id": "7a5f7dff",
   "metadata": {},
   "source": [
    "**Fold the synthetic proteins**"
   ]
  },
  {
   "cell_type": "code",
   "execution_count": 11,
   "id": "f61a1668",
   "metadata": {},
   "outputs": [
    {
     "name": "stdout",
     "output_type": "stream",
     "text": [
      "Requirement already satisfied: py3Dmol in /home/neil/anaconda3/envs/jupyter/lib/python3.11/site-packages (2.0.3)\n",
      "Requirement already satisfied: biopython in /home/neil/anaconda3/envs/jupyter/lib/python3.11/site-packages (1.81)\n",
      "Requirement already satisfied: numpy in /home/neil/anaconda3/envs/jupyter/lib/python3.11/site-packages (from biopython) (1.25.0)\n",
      "Requirement already satisfied: transformers in /home/neil/anaconda3/envs/jupyter/lib/python3.11/site-packages (4.30.2)\n",
      "Requirement already satisfied: filelock in /home/neil/anaconda3/envs/jupyter/lib/python3.11/site-packages (from transformers) (3.12.2)\n",
      "Requirement already satisfied: huggingface-hub<1.0,>=0.14.1 in /home/neil/anaconda3/envs/jupyter/lib/python3.11/site-packages (from transformers) (0.15.1)\n",
      "Requirement already satisfied: numpy>=1.17 in /home/neil/anaconda3/envs/jupyter/lib/python3.11/site-packages (from transformers) (1.25.0)\n",
      "Requirement already satisfied: packaging>=20.0 in /home/neil/anaconda3/envs/jupyter/lib/python3.11/site-packages (from transformers) (23.0)\n",
      "Requirement already satisfied: pyyaml>=5.1 in /home/neil/anaconda3/envs/jupyter/lib/python3.11/site-packages (from transformers) (6.0)\n",
      "Requirement already satisfied: regex!=2019.12.17 in /home/neil/anaconda3/envs/jupyter/lib/python3.11/site-packages (from transformers) (2023.6.3)\n",
      "Requirement already satisfied: requests in /home/neil/anaconda3/envs/jupyter/lib/python3.11/site-packages (from transformers) (2.29.0)\n",
      "Requirement already satisfied: tokenizers!=0.11.3,<0.14,>=0.11.1 in /home/neil/anaconda3/envs/jupyter/lib/python3.11/site-packages (from transformers) (0.13.3)\n",
      "Requirement already satisfied: safetensors>=0.3.1 in /home/neil/anaconda3/envs/jupyter/lib/python3.11/site-packages (from transformers) (0.3.1)\n",
      "Requirement already satisfied: tqdm>=4.27 in /home/neil/anaconda3/envs/jupyter/lib/python3.11/site-packages (from transformers) (4.65.0)\n",
      "Requirement already satisfied: fsspec in /home/neil/anaconda3/envs/jupyter/lib/python3.11/site-packages (from huggingface-hub<1.0,>=0.14.1->transformers) (2023.6.0)\n",
      "Requirement already satisfied: typing-extensions>=3.7.4.3 in /home/neil/anaconda3/envs/jupyter/lib/python3.11/site-packages (from huggingface-hub<1.0,>=0.14.1->transformers) (4.6.3)\n",
      "Requirement already satisfied: charset-normalizer<4,>=2 in /home/neil/anaconda3/envs/jupyter/lib/python3.11/site-packages (from requests->transformers) (2.0.4)\n",
      "Requirement already satisfied: idna<4,>=2.5 in /home/neil/anaconda3/envs/jupyter/lib/python3.11/site-packages (from requests->transformers) (3.4)\n",
      "Requirement already satisfied: urllib3<1.27,>=1.21.1 in /home/neil/anaconda3/envs/jupyter/lib/python3.11/site-packages (from requests->transformers) (1.26.16)\n",
      "Requirement already satisfied: certifi>=2017.4.17 in /home/neil/anaconda3/envs/jupyter/lib/python3.11/site-packages (from requests->transformers) (2023.5.7)\n",
      "Requirement already satisfied: torch in /home/neil/anaconda3/envs/jupyter/lib/python3.11/site-packages (2.0.1)\n",
      "Requirement already satisfied: filelock in /home/neil/anaconda3/envs/jupyter/lib/python3.11/site-packages (from torch) (3.12.2)\n",
      "Requirement already satisfied: typing-extensions in /home/neil/anaconda3/envs/jupyter/lib/python3.11/site-packages (from torch) (4.6.3)\n",
      "Requirement already satisfied: sympy in /home/neil/anaconda3/envs/jupyter/lib/python3.11/site-packages (from torch) (1.12)\n",
      "Requirement already satisfied: networkx in /home/neil/anaconda3/envs/jupyter/lib/python3.11/site-packages (from torch) (3.1)\n",
      "Requirement already satisfied: jinja2 in /home/neil/anaconda3/envs/jupyter/lib/python3.11/site-packages (from torch) (3.1.2)\n",
      "Requirement already satisfied: nvidia-cuda-nvrtc-cu11==11.7.99 in /home/neil/anaconda3/envs/jupyter/lib/python3.11/site-packages (from torch) (11.7.99)\n",
      "Requirement already satisfied: nvidia-cuda-runtime-cu11==11.7.99 in /home/neil/anaconda3/envs/jupyter/lib/python3.11/site-packages (from torch) (11.7.99)\n",
      "Requirement already satisfied: nvidia-cuda-cupti-cu11==11.7.101 in /home/neil/anaconda3/envs/jupyter/lib/python3.11/site-packages (from torch) (11.7.101)\n",
      "Requirement already satisfied: nvidia-cudnn-cu11==8.5.0.96 in /home/neil/anaconda3/envs/jupyter/lib/python3.11/site-packages (from torch) (8.5.0.96)\n",
      "Requirement already satisfied: nvidia-cublas-cu11==11.10.3.66 in /home/neil/anaconda3/envs/jupyter/lib/python3.11/site-packages (from torch) (11.10.3.66)\n",
      "Requirement already satisfied: nvidia-cufft-cu11==10.9.0.58 in /home/neil/anaconda3/envs/jupyter/lib/python3.11/site-packages (from torch) (10.9.0.58)\n",
      "Requirement already satisfied: nvidia-curand-cu11==10.2.10.91 in /home/neil/anaconda3/envs/jupyter/lib/python3.11/site-packages (from torch) (10.2.10.91)\n",
      "Requirement already satisfied: nvidia-cusolver-cu11==11.4.0.1 in /home/neil/anaconda3/envs/jupyter/lib/python3.11/site-packages (from torch) (11.4.0.1)\n",
      "Requirement already satisfied: nvidia-cusparse-cu11==11.7.4.91 in /home/neil/anaconda3/envs/jupyter/lib/python3.11/site-packages (from torch) (11.7.4.91)\n",
      "Requirement already satisfied: nvidia-nccl-cu11==2.14.3 in /home/neil/anaconda3/envs/jupyter/lib/python3.11/site-packages (from torch) (2.14.3)\n",
      "Requirement already satisfied: nvidia-nvtx-cu11==11.7.91 in /home/neil/anaconda3/envs/jupyter/lib/python3.11/site-packages (from torch) (11.7.91)\n",
      "Requirement already satisfied: triton==2.0.0 in /home/neil/anaconda3/envs/jupyter/lib/python3.11/site-packages (from torch) (2.0.0)\n",
      "Requirement already satisfied: setuptools in /home/neil/anaconda3/envs/jupyter/lib/python3.11/site-packages (from nvidia-cublas-cu11==11.10.3.66->torch) (67.8.0)\n",
      "Requirement already satisfied: wheel in /home/neil/anaconda3/envs/jupyter/lib/python3.11/site-packages (from nvidia-cublas-cu11==11.10.3.66->torch) (0.38.4)\n",
      "Requirement already satisfied: cmake in /home/neil/anaconda3/envs/jupyter/lib/python3.11/site-packages (from triton==2.0.0->torch) (3.26.4)\n",
      "Requirement already satisfied: lit in /home/neil/anaconda3/envs/jupyter/lib/python3.11/site-packages (from triton==2.0.0->torch) (16.0.6)\n",
      "Requirement already satisfied: MarkupSafe>=2.0 in /home/neil/anaconda3/envs/jupyter/lib/python3.11/site-packages (from jinja2->torch) (2.1.1)\n",
      "Requirement already satisfied: mpmath>=0.19 in /home/neil/anaconda3/envs/jupyter/lib/python3.11/site-packages (from sympy->torch) (1.3.0)\n",
      "Requirement already satisfied: pandas in /home/neil/anaconda3/envs/jupyter/lib/python3.11/site-packages (2.0.3)\n",
      "Requirement already satisfied: python-dateutil>=2.8.2 in /home/neil/anaconda3/envs/jupyter/lib/python3.11/site-packages (from pandas) (2.8.2)\n",
      "Requirement already satisfied: pytz>=2020.1 in /home/neil/anaconda3/envs/jupyter/lib/python3.11/site-packages (from pandas) (2022.7)\n",
      "Requirement already satisfied: tzdata>=2022.1 in /home/neil/anaconda3/envs/jupyter/lib/python3.11/site-packages (from pandas) (2023.3)\n",
      "Requirement already satisfied: numpy>=1.21.0 in /home/neil/anaconda3/envs/jupyter/lib/python3.11/site-packages (from pandas) (1.25.0)\n",
      "Requirement already satisfied: six>=1.5 in /home/neil/anaconda3/envs/jupyter/lib/python3.11/site-packages (from python-dateutil>=2.8.2->pandas) (1.16.0)\n",
      "Collecting accelerate\n",
      "  Using cached accelerate-0.20.3-py3-none-any.whl (227 kB)\n",
      "Requirement already satisfied: numpy>=1.17 in /home/neil/anaconda3/envs/jupyter/lib/python3.11/site-packages (from accelerate) (1.25.0)\n",
      "Requirement already satisfied: packaging>=20.0 in /home/neil/anaconda3/envs/jupyter/lib/python3.11/site-packages (from accelerate) (23.0)\n",
      "Requirement already satisfied: psutil in /home/neil/anaconda3/envs/jupyter/lib/python3.11/site-packages (from accelerate) (5.9.0)\n",
      "Requirement already satisfied: pyyaml in /home/neil/anaconda3/envs/jupyter/lib/python3.11/site-packages (from accelerate) (6.0)\n",
      "Requirement already satisfied: torch>=1.6.0 in /home/neil/anaconda3/envs/jupyter/lib/python3.11/site-packages (from accelerate) (2.0.1)\n",
      "Requirement already satisfied: filelock in /home/neil/anaconda3/envs/jupyter/lib/python3.11/site-packages (from torch>=1.6.0->accelerate) (3.12.2)\n",
      "Requirement already satisfied: typing-extensions in /home/neil/anaconda3/envs/jupyter/lib/python3.11/site-packages (from torch>=1.6.0->accelerate) (4.6.3)\n",
      "Requirement already satisfied: sympy in /home/neil/anaconda3/envs/jupyter/lib/python3.11/site-packages (from torch>=1.6.0->accelerate) (1.12)\n",
      "Requirement already satisfied: networkx in /home/neil/anaconda3/envs/jupyter/lib/python3.11/site-packages (from torch>=1.6.0->accelerate) (3.1)\n",
      "Requirement already satisfied: jinja2 in /home/neil/anaconda3/envs/jupyter/lib/python3.11/site-packages (from torch>=1.6.0->accelerate) (3.1.2)\n",
      "Requirement already satisfied: nvidia-cuda-nvrtc-cu11==11.7.99 in /home/neil/anaconda3/envs/jupyter/lib/python3.11/site-packages (from torch>=1.6.0->accelerate) (11.7.99)\n",
      "Requirement already satisfied: nvidia-cuda-runtime-cu11==11.7.99 in /home/neil/anaconda3/envs/jupyter/lib/python3.11/site-packages (from torch>=1.6.0->accelerate) (11.7.99)\n",
      "Requirement already satisfied: nvidia-cuda-cupti-cu11==11.7.101 in /home/neil/anaconda3/envs/jupyter/lib/python3.11/site-packages (from torch>=1.6.0->accelerate) (11.7.101)\n",
      "Requirement already satisfied: nvidia-cudnn-cu11==8.5.0.96 in /home/neil/anaconda3/envs/jupyter/lib/python3.11/site-packages (from torch>=1.6.0->accelerate) (8.5.0.96)\n",
      "Requirement already satisfied: nvidia-cublas-cu11==11.10.3.66 in /home/neil/anaconda3/envs/jupyter/lib/python3.11/site-packages (from torch>=1.6.0->accelerate) (11.10.3.66)\n",
      "Requirement already satisfied: nvidia-cufft-cu11==10.9.0.58 in /home/neil/anaconda3/envs/jupyter/lib/python3.11/site-packages (from torch>=1.6.0->accelerate) (10.9.0.58)\n",
      "Requirement already satisfied: nvidia-curand-cu11==10.2.10.91 in /home/neil/anaconda3/envs/jupyter/lib/python3.11/site-packages (from torch>=1.6.0->accelerate) (10.2.10.91)\n",
      "Requirement already satisfied: nvidia-cusolver-cu11==11.4.0.1 in /home/neil/anaconda3/envs/jupyter/lib/python3.11/site-packages (from torch>=1.6.0->accelerate) (11.4.0.1)\n",
      "Requirement already satisfied: nvidia-cusparse-cu11==11.7.4.91 in /home/neil/anaconda3/envs/jupyter/lib/python3.11/site-packages (from torch>=1.6.0->accelerate) (11.7.4.91)\n",
      "Requirement already satisfied: nvidia-nccl-cu11==2.14.3 in /home/neil/anaconda3/envs/jupyter/lib/python3.11/site-packages (from torch>=1.6.0->accelerate) (2.14.3)\n",
      "Requirement already satisfied: nvidia-nvtx-cu11==11.7.91 in /home/neil/anaconda3/envs/jupyter/lib/python3.11/site-packages (from torch>=1.6.0->accelerate) (11.7.91)\n",
      "Requirement already satisfied: triton==2.0.0 in /home/neil/anaconda3/envs/jupyter/lib/python3.11/site-packages (from torch>=1.6.0->accelerate) (2.0.0)\n"
     ]
    },
    {
     "name": "stdout",
     "output_type": "stream",
     "text": [
      "Requirement already satisfied: setuptools in /home/neil/anaconda3/envs/jupyter/lib/python3.11/site-packages (from nvidia-cublas-cu11==11.10.3.66->torch>=1.6.0->accelerate) (67.8.0)\n",
      "Requirement already satisfied: wheel in /home/neil/anaconda3/envs/jupyter/lib/python3.11/site-packages (from nvidia-cublas-cu11==11.10.3.66->torch>=1.6.0->accelerate) (0.38.4)\n",
      "Requirement already satisfied: cmake in /home/neil/anaconda3/envs/jupyter/lib/python3.11/site-packages (from triton==2.0.0->torch>=1.6.0->accelerate) (3.26.4)\n",
      "Requirement already satisfied: lit in /home/neil/anaconda3/envs/jupyter/lib/python3.11/site-packages (from triton==2.0.0->torch>=1.6.0->accelerate) (16.0.6)\n",
      "Requirement already satisfied: MarkupSafe>=2.0 in /home/neil/anaconda3/envs/jupyter/lib/python3.11/site-packages (from jinja2->torch>=1.6.0->accelerate) (2.1.1)\n",
      "Requirement already satisfied: mpmath>=0.19 in /home/neil/anaconda3/envs/jupyter/lib/python3.11/site-packages (from sympy->torch>=1.6.0->accelerate) (1.3.0)\n",
      "Installing collected packages: accelerate\n",
      "Successfully installed accelerate-0.20.3\n",
      "Some weights of EsmForProteinFolding were not initialized from the model checkpoint at facebook/esmfold_v1 and are newly initialized: ['esm.contact_head.regression.bias', 'esm.contact_head.regression.weight']\n",
      "You should probably TRAIN this model on a down-stream task to be able to use it for predictions and inference.\n",
      "Processing protein: 1.1.1.1_1_0_1.4083549294407938\n",
      "Average pLDDT score: 0.318901926279068\n",
      "Processing protein: 1.1.1.1_4_0_1.1745054754441522\n",
      "Average pLDDT score: 0.3258002996444702\n",
      "Processing protein: 1.1.1.1_11_0_1.2964538976041016\n",
      "Average pLDDT score: 0.4318179488182068\n",
      "Processing protein: 1.1.1.1_11_1_1.6089056986638242\n",
      "Average pLDDT score: 0.36328986287117004\n",
      "/home/neil/projects-dep/esmFold/esmFold.py /home/neil/data/sif/synProts/ISP_1111_A1/ISP_1111_A1_short.fasta /home/neil/data/sif/synStrucs/follows-study-374520/ISP_1111_A1_short\n"
     ]
    }
   ],
   "source": [
    "!pip install py3Dmol\n",
    "!pip install biopython\n",
    "!pip install transformers\n",
    "!pip install torch\n",
    "!pip install pandas\n",
    "!pip install accelerate\n",
    "\n",
    "# Build the complete paths first\n",
    "fasta_path = f\"{synProts}{synName}.fasta\"\n",
    "output_path = f\"{synStrucs}{wf_id}/{synName}\"\n",
    "\n",
    "# Use the paths in the command\n",
    "!python /home/neil/projects-dep/esmFold/esmFold.py {fasta_path} {output_path}\n",
    "print(\"/home/neil/projects-dep/esmFold/esmFold.py\", fasta_path, output_path)"
   ]
  },
  {
   "cell_type": "markdown",
   "id": "38f534a0",
   "metadata": {},
   "source": [
    "**Fold the natural proteins**"
   ]
  },
  {
   "cell_type": "code",
   "execution_count": null,
   "id": "d2f03ba5",
   "metadata": {},
   "outputs": [],
   "source": [
    "# Build the complete paths first\n",
    "fasta_path = f\"{natProts}{natName}.fasta\"\n",
    "output_path = f\"{natStrucs}{wf_id}/{natName}\"\n",
    "\n",
    "# Use the paths in the command\n",
    "!python /home/neil/projects-dep/esmFold/esmFold.py {fasta_path} {output_path}\n",
    "print(\"/home/neil/projects-dep/esmFold/esmFold.py\", fasta_path, output_path)"
   ]
  },
  {
   "cell_type": "markdown",
   "id": "968f01f8",
   "metadata": {},
   "source": [
    "# Building the SSNs"
   ]
  },
  {
   "cell_type": "markdown",
   "id": "7c088731",
   "metadata": {},
   "source": [
    "\n",
    "\n",
    "We are going to do this manually over a terminal to TBone as it can take a while.\n",
    "\n",
    "1) SSH into TBone e.g. ssh neil@92.40.34.250\n",
    "2) conda activate nf-needleall-ava\n",
    "3) export NXF_VER=22.10.0\n",
    "4) run the command generated below so that things end up in the right directory"
   ]
  },
  {
   "cell_type": "code",
   "execution_count": null,
   "id": "86f965a3",
   "metadata": {},
   "outputs": [],
   "source": [
    "## Synthetic Proteins"
   ]
  },
  {
   "cell_type": "code",
   "execution_count": 18,
   "id": "41748a91",
   "metadata": {},
   "outputs": [
    {
     "name": "stdout",
     "output_type": "stream",
     "text": [
      "nextflow run ravenlocke/nf-needleall-ava --infile /home/neil/data/sif/synProts/ISP_1111_A1/ISP_1111_A1_short.fasta --outdir /home/neil/data/sif/synProtsComp/ssn/ISP_1111_A1_short/follows-study-374520 --threshold 0.4\n"
     ]
    }
   ],
   "source": [
    "fasta_path = f\"{synProts}{synName}.fasta\"\n",
    "comp_output_path_ssn = f\"{synProtsComp}ssn/{synName}/{wf_id}\"\n",
    "print (\"nextflow run ravenlocke/nf-needleall-ava --infile\", fasta_path, \"--outdir\", comp_output_path_ssn, \"--threshold 0.4\")"
   ]
  },
  {
   "cell_type": "code",
   "execution_count": null,
   "id": "f08d2322",
   "metadata": {},
   "outputs": [],
   "source": [
    "## Natural Proteins"
   ]
  },
  {
   "cell_type": "code",
   "execution_count": 19,
   "id": "b91fadbd",
   "metadata": {},
   "outputs": [
    {
     "name": "stdout",
     "output_type": "stream",
     "text": [
      "nextflow run ravenlocke/nf-needleall-ava --infile /home/neil/data/sif/natProts/zhen_sdrs/sdr_pdg_filtered_short.fasta --outdir /home/neil/data/sif/natProtsComp/ssn/sdr_pdg_filtered_short/follows-study-374520 --threshold 0.4\n"
     ]
    }
   ],
   "source": [
    "fasta_path = f\"{natProts}{natName}.fasta\"\n",
    "comp_output_path_ssn = f\"{natProtsComp}ssn/{natName}/{wf_id}\"\n",
    "print (\"nextflow run ravenlocke/nf-needleall-ava --infile\", fasta_path, \"--outdir\", comp_output_path_ssn, \"--threshold 0.4\")"
   ]
  }
 ],
 "metadata": {
  "kernelspec": {
   "display_name": "Python 3 (ipykernel)",
   "language": "python",
   "name": "python3"
  },
  "language_info": {
   "codemirror_mode": {
    "name": "ipython",
    "version": 3
   },
   "file_extension": ".py",
   "mimetype": "text/x-python",
   "name": "python",
   "nbconvert_exporter": "python",
   "pygments_lexer": "ipython3",
   "version": "3.11.3"
  }
 },
 "nbformat": 4,
 "nbformat_minor": 5
}
